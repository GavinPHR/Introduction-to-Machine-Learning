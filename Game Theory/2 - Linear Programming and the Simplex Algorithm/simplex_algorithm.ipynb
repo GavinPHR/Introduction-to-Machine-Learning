{
 "cells": [
  {
   "cell_type": "markdown",
   "id": "bc9708ea",
   "metadata": {},
   "source": [
    "Input $c, A, b$\n",
    "\n",
    "Maximize $c^T x$\n",
    "\n",
    "Subject to: $Ax\\le b$, $x \\ge 0$"
   ]
  },
  {
   "cell_type": "code",
   "execution_count": 186,
   "id": "8ea2cdcc",
   "metadata": {},
   "outputs": [],
   "source": [
    "class LP:\n",
    "    def __init__(self, c, A, b):\n",
    "        \"\"\"\n",
    "        Standardize\n",
    "        \"\"\"\n",
    "        n = len(c)\n",
    "        m = len(A)\n",
    "        for i, a in enumerate(A):\n",
    "            a += [0] * (m + 1)\n",
    "            a[n + i] = 1\n",
    "            a[-1] = b[i]\n",
    "            if a[-1] < 0:\n",
    "                for i in range(len(a)):\n",
    "                    a[i] = -a[i]\n",
    "        c += [0] * (m + 1)\n",
    "        A.append(list(map(lambda x: -x, c)))\n",
    "        self.tableau = A\n",
    "        self.basis = list(range(n, n + m + 1))\n",
    "        self.basis[-1] = float('nan')\n",
    "        \n",
    "    def pivot(self):\n",
    "        \"\"\"\n",
    "        Find the pivot\n",
    "        \"\"\"\n",
    "        min_val = float('inf')\n",
    "        min_var = None\n",
    "        for j, val in enumerate(self.tableau[-1]):\n",
    "            if val < min_val:\n",
    "                min_val = val\n",
    "                min_var = j\n",
    "        if min_val >= 0:\n",
    "            print('Optimal achieved: optimal =', self.tableau[-1][-1])\n",
    "            self.print()\n",
    "            return\n",
    "        entering = min_var\n",
    "        \n",
    "        min_val = float('inf')\n",
    "        min_var = None\n",
    "        for i, row in enumerate(self.tableau[:-1]):\n",
    "            if row[entering] <= 0:\n",
    "                continue\n",
    "            v = row[-1] / row[entering]\n",
    "            if v < min_val and v >= 0:\n",
    "                min_val = v\n",
    "                min_var = i\n",
    "        if min_var is None:\n",
    "            print('Unbounded')\n",
    "            return\n",
    "        leaving = min_var\n",
    "        \n",
    "        self._pivot(leaving, entering)\n",
    "        \n",
    "    def _pivot(self, leaving, entering):\n",
    "        \"\"\"\n",
    "        Pivot with Gaussian elimination\n",
    "        \"\"\"\n",
    "        length = len(self.tableau[0])\n",
    "        divider = self.tableau[leaving][entering]\n",
    "        for j in range(length):\n",
    "            self.tableau[leaving][j] /= divider\n",
    "        for i, row in enumerate(self.tableau):\n",
    "            if i == leaving: \n",
    "                continue\n",
    "            multiplier = self.tableau[i][entering]\n",
    "            for j in range(length):\n",
    "                self.tableau[i][j] -= multiplier * self.tableau[leaving][j]\n",
    "        self.basis[leaving] = entering\n",
    "        self.print()\n",
    "        \n",
    "    def print(self):\n",
    "        for i, row in enumerate(self.tableau):\n",
    "            print(row, '[' + str(self.basis[i]) + ']')\n",
    "        print()"
   ]
  },
  {
   "cell_type": "markdown",
   "id": "51a600e2",
   "metadata": {},
   "source": [
    "Note that if you can put an LP into primal form, then the outcome can be:\n",
    "- an optimal feasible solution\n",
    "- the problem is unbounded\n",
    "\n",
    "$x = 0$, slack = $b$ is the starting basic feasible solution"
   ]
  },
  {
   "cell_type": "code",
   "execution_count": 193,
   "id": "8cf06e42",
   "metadata": {},
   "outputs": [],
   "source": [
    "# Feasible\n",
    "c = [4, 6]\n",
    "A = [[-1, 1], \n",
    "     [ 1, 1],\n",
    "     [ 2, 5]]\n",
    "b = [11, 27, 90]\n",
    "\n",
    "# Unbounded\n",
    "# c = [1, 2]\n",
    "# A = [[ 1, -3], \n",
    "#      [-1,  2]]\n",
    "# b = [1, 4]"
   ]
  },
  {
   "cell_type": "code",
   "execution_count": 194,
   "id": "49c3039b",
   "metadata": {},
   "outputs": [],
   "source": [
    "p = LP(c, A, b)"
   ]
  },
  {
   "cell_type": "code",
   "execution_count": 195,
   "id": "9f3528ee",
   "metadata": {},
   "outputs": [
    {
     "name": "stdout",
     "output_type": "stream",
     "text": [
      "[-1, 1, 1, 0, 0, 11] [2]\n",
      "[1, 1, 0, 1, 0, 27] [3]\n",
      "[2, 5, 0, 0, 1, 90] [4]\n",
      "[-4, -6, 0, 0, 0, 0] [nan]\n",
      "\n",
      "[-1.0, 1.0, 1.0, 0.0, 0.0, 11.0] [1]\n",
      "[2.0, 0.0, -1.0, 1.0, 0.0, 16.0] [3]\n",
      "[7.0, 0.0, -5.0, 0.0, 1.0, 35.0] [4]\n",
      "[-10.0, 0.0, 6.0, 0.0, 0.0, 66.0] [nan]\n",
      "\n",
      "[0.0, 1.0, 0.2857142857142857, 0.0, 0.14285714285714285, 16.0] [1]\n",
      "[0.0, 0.0, 0.4285714285714286, 1.0, -0.2857142857142857, 6.0] [3]\n",
      "[1.0, 0.0, -0.7142857142857143, 0.0, 0.14285714285714285, 5.0] [0]\n",
      "[0.0, 0.0, -1.1428571428571432, 0.0, 1.4285714285714284, 116.0] [nan]\n",
      "\n",
      "[0.0, 1.0, 0.0, -0.6666666666666665, 0.3333333333333333, 12.0] [1]\n",
      "[0.0, 0.0, 1.0, 2.333333333333333, -0.6666666666666666, 13.999999999999998] [2]\n",
      "[1.0, 0.0, 0.0, 1.6666666666666665, -0.3333333333333333, 14.999999999999998] [0]\n",
      "[0.0, 0.0, 0.0, 2.6666666666666674, 0.6666666666666663, 132.0] [nan]\n",
      "\n",
      "Optimal achieved: optimal = 132.0\n",
      "[0.0, 1.0, 0.0, -0.6666666666666665, 0.3333333333333333, 12.0] [1]\n",
      "[0.0, 0.0, 1.0, 2.333333333333333, -0.6666666666666666, 13.999999999999998] [2]\n",
      "[1.0, 0.0, 0.0, 1.6666666666666665, -0.3333333333333333, 14.999999999999998] [0]\n",
      "[0.0, 0.0, 0.0, 2.6666666666666674, 0.6666666666666663, 132.0] [nan]\n",
      "\n"
     ]
    }
   ],
   "source": [
    "p.print()\n",
    "p.pivot()\n",
    "p.pivot()\n",
    "p.pivot()\n",
    "p.pivot()"
   ]
  },
  {
   "cell_type": "code",
   "execution_count": null,
   "id": "9c4f3176",
   "metadata": {},
   "outputs": [],
   "source": []
  }
 ],
 "metadata": {
  "kernelspec": {
   "display_name": "Python 3",
   "language": "python",
   "name": "python3"
  },
  "language_info": {
   "codemirror_mode": {
    "name": "ipython",
    "version": 3
   },
   "file_extension": ".py",
   "mimetype": "text/x-python",
   "name": "python",
   "nbconvert_exporter": "python",
   "pygments_lexer": "ipython3",
   "version": "3.9.4"
  }
 },
 "nbformat": 4,
 "nbformat_minor": 5
}
